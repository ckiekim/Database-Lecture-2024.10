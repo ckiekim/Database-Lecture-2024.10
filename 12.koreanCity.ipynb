{
 "cells": [
  {
   "cell_type": "markdown",
   "metadata": {},
   "source": [
    "# KoreanCity DAO를 이용한 DB Access"
   ]
  },
  {
   "cell_type": "code",
   "execution_count": 1,
   "metadata": {},
   "outputs": [],
   "source": [
    "import koreancity_dao as kcd\n",
    "import pandas as pd"
   ]
  },
  {
   "cell_type": "markdown",
   "metadata": {},
   "source": [
    "- R: Read/Retrieve"
   ]
  },
  {
   "cell_type": "code",
   "execution_count": 2,
   "metadata": {},
   "outputs": [
    {
     "data": {
      "text/plain": [
       "(2331, 'Seoul', 'Seoul', 9981619)"
      ]
     },
     "execution_count": 2,
     "metadata": {},
     "output_type": "execute_result"
    }
   ],
   "source": [
    "city = kcd.find_by_name('Seoul')\n",
    "city"
   ]
  },
  {
   "cell_type": "code",
   "execution_count": 3,
   "metadata": {},
   "outputs": [
    {
     "data": {
      "text/plain": [
       "(2332, 'Pusan', 'Pusan', 3804522)"
      ]
     },
     "execution_count": 3,
     "metadata": {},
     "output_type": "execute_result"
    }
   ],
   "source": [
    "city = kcd.find_by_id(2332)\n",
    "city"
   ]
  },
  {
   "cell_type": "code",
   "execution_count": 6,
   "metadata": {},
   "outputs": [
    {
     "name": "stdout",
     "output_type": "stream",
     "text": [
      "(2363, '원주', '강원', 237460)\n",
      "(2365, '춘천', '강원', 234528)\n",
      "(2367, '강릉', '강원', 220403)\n",
      "(2399, '동해', '강원', 95472)\n",
      "(2405, '횡성', '강원', 171234)\n",
      "(2406, '삼척', '강원', 101234)\n",
      "(2407, '속초', '강원', 191234)\n"
     ]
    }
   ],
   "source": [
    "city_list = kcd.find_list_by_district('강원')\n",
    "for city in city_list:\n",
    "    print(city)"
   ]
  },
  {
   "cell_type": "code",
   "execution_count": 7,
   "metadata": {},
   "outputs": [
    {
     "data": {
      "text/html": [
       "<div>\n",
       "<style scoped>\n",
       "    .dataframe tbody tr th:only-of-type {\n",
       "        vertical-align: middle;\n",
       "    }\n",
       "\n",
       "    .dataframe tbody tr th {\n",
       "        vertical-align: top;\n",
       "    }\n",
       "\n",
       "    .dataframe thead th {\n",
       "        text-align: right;\n",
       "    }\n",
       "</style>\n",
       "<table border=\"1\" class=\"dataframe\">\n",
       "  <thead>\n",
       "    <tr style=\"text-align: right;\">\n",
       "      <th></th>\n",
       "      <th>도시명</th>\n",
       "      <th>도</th>\n",
       "      <th>인구수</th>\n",
       "    </tr>\n",
       "    <tr>\n",
       "      <th>id</th>\n",
       "      <th></th>\n",
       "      <th></th>\n",
       "      <th></th>\n",
       "    </tr>\n",
       "  </thead>\n",
       "  <tbody>\n",
       "    <tr>\n",
       "      <th>2363</th>\n",
       "      <td>원주</td>\n",
       "      <td>강원</td>\n",
       "      <td>237460</td>\n",
       "    </tr>\n",
       "    <tr>\n",
       "      <th>2365</th>\n",
       "      <td>춘천</td>\n",
       "      <td>강원</td>\n",
       "      <td>234528</td>\n",
       "    </tr>\n",
       "    <tr>\n",
       "      <th>2367</th>\n",
       "      <td>강릉</td>\n",
       "      <td>강원</td>\n",
       "      <td>220403</td>\n",
       "    </tr>\n",
       "    <tr>\n",
       "      <th>2399</th>\n",
       "      <td>동해</td>\n",
       "      <td>강원</td>\n",
       "      <td>95472</td>\n",
       "    </tr>\n",
       "    <tr>\n",
       "      <th>2405</th>\n",
       "      <td>횡성</td>\n",
       "      <td>강원</td>\n",
       "      <td>171234</td>\n",
       "    </tr>\n",
       "    <tr>\n",
       "      <th>2406</th>\n",
       "      <td>삼척</td>\n",
       "      <td>강원</td>\n",
       "      <td>101234</td>\n",
       "    </tr>\n",
       "    <tr>\n",
       "      <th>2407</th>\n",
       "      <td>속초</td>\n",
       "      <td>강원</td>\n",
       "      <td>191234</td>\n",
       "    </tr>\n",
       "  </tbody>\n",
       "</table>\n",
       "</div>"
      ],
      "text/plain": [
       "     도시명   도     인구수\n",
       "id                  \n",
       "2363  원주  강원  237460\n",
       "2365  춘천  강원  234528\n",
       "2367  강릉  강원  220403\n",
       "2399  동해  강원   95472\n",
       "2405  횡성  강원  171234\n",
       "2406  삼척  강원  101234\n",
       "2407  속초  강원  191234"
      ]
     },
     "execution_count": 7,
     "metadata": {},
     "output_type": "execute_result"
    }
   ],
   "source": [
    "df = pd.DataFrame(city_list, columns=['id', '도시명', '도', '인구수'])\n",
    "df.set_index('id', inplace=True)\n",
    "df"
   ]
  },
  {
   "cell_type": "markdown",
   "metadata": {},
   "source": [
    "- C: Create"
   ]
  },
  {
   "cell_type": "code",
   "execution_count": 8,
   "metadata": {},
   "outputs": [
    {
     "data": {
      "text/plain": [
       "(2412, '도시명', '도', 300000)"
      ]
     },
     "execution_count": 8,
     "metadata": {},
     "output_type": "execute_result"
    }
   ],
   "source": [
    "city = ('도시명', '도', 300000)\n",
    "kcd.insert_city(city)\n",
    "city = kcd.find_by_name('도시명')\n",
    "city"
   ]
  },
  {
   "cell_type": "markdown",
   "metadata": {},
   "source": [
    "- U: Update"
   ]
  },
  {
   "cell_type": "code",
   "execution_count": 10,
   "metadata": {},
   "outputs": [
    {
     "data": {
      "text/plain": [
       "(2412, '수정된도시명', '수정된도', 300300)"
      ]
     },
     "execution_count": 10,
     "metadata": {},
     "output_type": "execute_result"
    }
   ],
   "source": [
    "city = ('수정된도시명', '수정된도', 300300, 2412)\n",
    "kcd.update_city(city)\n",
    "city = kcd.find_by_id(2412)\n",
    "city"
   ]
  },
  {
   "cell_type": "code",
   "execution_count": 12,
   "metadata": {},
   "outputs": [
    {
     "data": {
      "text/plain": [
       "(2412, '수정된도시명', '수정된도', 300307)"
      ]
     },
     "execution_count": 12,
     "metadata": {},
     "output_type": "execute_result"
    }
   ],
   "source": [
    "city = kcd.find_by_id(2412)\n",
    "params = (city[1], city[2], city[3]+7, city[0])\n",
    "kcd.update_city(params)\n",
    "city = kcd.find_by_id(2412)\n",
    "city"
   ]
  },
  {
   "cell_type": "markdown",
   "metadata": {},
   "source": [
    "- D: Delete"
   ]
  },
  {
   "cell_type": "code",
   "execution_count": 13,
   "metadata": {},
   "outputs": [],
   "source": [
    "kcd.delete_city(2412)"
   ]
  },
  {
   "cell_type": "code",
   "execution_count": null,
   "metadata": {},
   "outputs": [],
   "source": []
  }
 ],
 "metadata": {
  "kernelspec": {
   "display_name": "vsc",
   "language": "python",
   "name": "python3"
  },
  "language_info": {
   "codemirror_mode": {
    "name": "ipython",
    "version": 3
   },
   "file_extension": ".py",
   "mimetype": "text/x-python",
   "name": "python",
   "nbconvert_exporter": "python",
   "pygments_lexer": "ipython3",
   "version": "3.7.7"
  }
 },
 "nbformat": 4,
 "nbformat_minor": 2
}
