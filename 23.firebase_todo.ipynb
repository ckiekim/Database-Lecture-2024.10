{
 "cells": [
  {
   "cell_type": "markdown",
   "metadata": {},
   "source": [
    "### firebase_todo_dao를 이용한 DB Access"
   ]
  },
  {
   "cell_type": "code",
   "execution_count": 1,
   "metadata": {},
   "outputs": [],
   "source": [
    "import firebase_todo_dao as tdao"
   ]
  },
  {
   "cell_type": "markdown",
   "metadata": {},
   "source": [
    "- 데이터 입력"
   ]
  },
  {
   "cell_type": "code",
   "execution_count": 2,
   "metadata": {},
   "outputs": [],
   "source": [
    "todo_list = [\n",
    "\t{'uid':'james', 'name':'여친과 데이트', 'date':'2024-12-24', 'hasDone':False},\n",
    "\t{'uid':'james', 'name':'영화 감상', 'date':'2024-12-25', 'hasDone':False},\n",
    "\t{'uid':'maria', 'name':'뮤지컬 감상', 'date':'2024-12-25', 'hasDone':False},\n",
    "\t{'uid':'maria', 'name':'남친과 데이트', 'date':'2024-12-24', 'hasDone':False},\n",
    "\t{'uid':'maria', 'name':'선물 고르기', 'date':'2024-12-24', 'hasDone':False},\n",
    "\t{'uid':'brian', 'name':'혼술하기', 'date':'2024-12-24', 'hasDone':False},\n",
    "]\n",
    "for todo in todo_list:\n",
    "    tdao.insert_todo(todo)"
   ]
  },
  {
   "cell_type": "markdown",
   "metadata": {},
   "source": [
    "- 사용자별 Todo list"
   ]
  },
  {
   "cell_type": "code",
   "execution_count": 3,
   "metadata": {},
   "outputs": [
    {
     "name": "stdout",
     "output_type": "stream",
     "text": [
      "{'date': '2024-12-24', 'hasDone': False, 'name': '여친과 데이트', 'uid': 'james'}\n",
      "{'date': '2024-12-25', 'hasDone': False, 'name': '커피 마시기', 'uid': 'james'}\n",
      "{'date': '2024-12-25', 'hasDone': False, 'name': '영화 감상', 'uid': 'james'}\n"
     ]
    }
   ],
   "source": [
    "todo_list = tdao.get_todo_list('james')\n",
    "for todo in todo_list:\n",
    "    print(todo)"
   ]
  },
  {
   "cell_type": "markdown",
   "metadata": {},
   "source": [
    "- 사용자별 일자별 Todo list"
   ]
  },
  {
   "cell_type": "code",
   "execution_count": 4,
   "metadata": {},
   "outputs": [
    {
     "name": "stdout",
     "output_type": "stream",
     "text": [
      "{'date': '2024-12-24', 'hasDone': False, 'name': '남친과 데이트', 'uid': 'maria'}\n",
      "{'date': '2024-12-24', 'hasDone': False, 'name': '선물 고르기', 'uid': 'maria'}\n"
     ]
    }
   ],
   "source": [
    "todo_list = tdao.get_todo_list_by_date('maria', '2024-12-24')\n",
    "for todo in todo_list:\n",
    "    print(todo)"
   ]
  },
  {
   "cell_type": "markdown",
   "metadata": {},
   "source": [
    "- update"
   ]
  },
  {
   "cell_type": "code",
   "execution_count": 5,
   "metadata": {},
   "outputs": [
    {
     "data": {
      "text/plain": [
       "{'date': '2024-12-24', 'hasDone': True, 'name': '선물 고르기', 'uid': 'maria'}"
      ]
     },
     "execution_count": 5,
     "metadata": {},
     "output_type": "execute_result"
    }
   ],
   "source": [
    "todo = todo_list[1]\n",
    "todo['hasDone'] = True\n",
    "todo"
   ]
  },
  {
   "cell_type": "code",
   "execution_count": 6,
   "metadata": {},
   "outputs": [],
   "source": [
    "tdao.update_todo(todo)"
   ]
  },
  {
   "cell_type": "code",
   "execution_count": 7,
   "metadata": {},
   "outputs": [
    {
     "name": "stdout",
     "output_type": "stream",
     "text": [
      "{'date': '2024-12-24', 'hasDone': False, 'name': '남친과 데이트', 'uid': 'maria'}\n",
      "{'date': '2024-12-24', 'hasDone': True, 'name': '선물 고르기', 'uid': 'maria'}\n"
     ]
    }
   ],
   "source": [
    "todo_list = tdao.get_todo_list_by_date('maria', '2024-12-24')\n",
    "for todo in todo_list:\n",
    "    print(todo)"
   ]
  },
  {
   "cell_type": "markdown",
   "metadata": {},
   "source": [
    "- delete"
   ]
  },
  {
   "cell_type": "code",
   "execution_count": 8,
   "metadata": {},
   "outputs": [],
   "source": [
    "todo = todo_list[1]\n",
    "tdao.delete_todo(todo)"
   ]
  },
  {
   "cell_type": "code",
   "execution_count": 9,
   "metadata": {},
   "outputs": [
    {
     "name": "stdout",
     "output_type": "stream",
     "text": [
      "{'date': '2024-12-24', 'hasDone': False, 'name': '남친과 데이트', 'uid': 'maria'}\n"
     ]
    }
   ],
   "source": [
    "todo_list = tdao.get_todo_list_by_date('maria', '2024-12-24')\n",
    "for todo in todo_list:\n",
    "    print(todo)"
   ]
  },
  {
   "cell_type": "code",
   "execution_count": null,
   "metadata": {},
   "outputs": [],
   "source": []
  }
 ],
 "metadata": {
  "kernelspec": {
   "display_name": "base",
   "language": "python",
   "name": "python3"
  },
  "language_info": {
   "codemirror_mode": {
    "name": "ipython",
    "version": 3
   },
   "file_extension": ".py",
   "mimetype": "text/x-python",
   "name": "python",
   "nbconvert_exporter": "python",
   "pygments_lexer": "ipython3",
   "version": "3.12.7"
  }
 },
 "nbformat": 4,
 "nbformat_minor": 2
}
