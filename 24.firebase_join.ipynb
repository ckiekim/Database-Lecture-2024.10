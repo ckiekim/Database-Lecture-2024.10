{
 "cells": [
  {
   "cell_type": "markdown",
   "metadata": {},
   "source": [
    "### Join Access"
   ]
  },
  {
   "cell_type": "code",
   "execution_count": 1,
   "metadata": {},
   "outputs": [],
   "source": [
    "import firebase_join_dao as join_dao"
   ]
  },
  {
   "cell_type": "code",
   "execution_count": 2,
   "metadata": {},
   "outputs": [
    {
     "name": "stdout",
     "output_type": "stream",
     "text": [
      "{'date': '2024-12-24', 'hasDone': False, 'name': '남친과 데이트', 'uid': 'maria', 'uname': '마리아'}\n",
      "{'date': '2024-12-25', 'hasDone': False, 'name': '뮤지컬 감상', 'uid': 'maria', 'uname': '마리아'}\n"
     ]
    }
   ],
   "source": [
    "todo_list = join_dao.get_todo_list('maria')\n",
    "for todo in todo_list:\n",
    "    print(todo)"
   ]
  },
  {
   "cell_type": "code",
   "execution_count": 4,
   "metadata": {},
   "outputs": [
    {
     "name": "stdout",
     "output_type": "stream",
     "text": [
      "{'date': '2024-12-25', 'hasDone': False, 'name': '커피 마시기', 'uid': 'james', 'uname': '제임스'}\n",
      "{'date': '2024-12-25', 'hasDone': False, 'name': '영화 감상', 'uid': 'james', 'uname': '제임스'}\n"
     ]
    }
   ],
   "source": [
    "todo_list = join_dao.get_todo_list_by_date('james', '2024-12-25')\n",
    "for todo in todo_list:\n",
    "    print(todo)"
   ]
  },
  {
   "cell_type": "code",
   "execution_count": 5,
   "metadata": {},
   "outputs": [
    {
     "name": "stdout",
     "output_type": "stream",
     "text": [
      "{'date': '2024-12-24', 'hasDone': False, 'name': '여친과 데이트', 'uid': 'james', 'uname': '제임스'}\n",
      "{'date': '2024-12-24', 'hasDone': False, 'name': '남친과 데이트', 'uid': 'maria', 'uname': '마리아'}\n",
      "{'date': '2024-12-24', 'hasDone': False, 'name': '혼술하기', 'uid': 'brian', 'uname': '브라이언'}\n",
      "{'date': '2024-12-25', 'hasDone': False, 'name': '커피 마시기', 'uid': 'james', 'uname': '제임스'}\n",
      "{'date': '2024-12-25', 'hasDone': False, 'name': '영화 감상', 'uid': 'james', 'uname': '제임스'}\n",
      "{'date': '2024-12-25', 'hasDone': False, 'name': '뮤지컬 감상', 'uid': 'maria', 'uname': '마리아'}\n"
     ]
    }
   ],
   "source": [
    "todo_list = join_dao.get_all_todo_list()\n",
    "for todo in todo_list:\n",
    "    print(todo)"
   ]
  },
  {
   "cell_type": "code",
   "execution_count": null,
   "metadata": {},
   "outputs": [],
   "source": []
  }
 ],
 "metadata": {
  "kernelspec": {
   "display_name": "base",
   "language": "python",
   "name": "python3"
  },
  "language_info": {
   "codemirror_mode": {
    "name": "ipython",
    "version": 3
   },
   "file_extension": ".py",
   "mimetype": "text/x-python",
   "name": "python",
   "nbconvert_exporter": "python",
   "pygments_lexer": "ipython3",
   "version": "3.12.7"
  }
 },
 "nbformat": 4,
 "nbformat_minor": 2
}
