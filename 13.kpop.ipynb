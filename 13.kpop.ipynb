{
 "cells": [
  {
   "cell_type": "markdown",
   "metadata": {},
   "source": [
    "# Kpop DAO를 이용한 DB Access"
   ]
  },
  {
   "cell_type": "code",
   "execution_count": 1,
   "metadata": {},
   "outputs": [],
   "source": [
    "import kpop_dao as kdao\n",
    "import pandas as pd"
   ]
  },
  {
   "cell_type": "markdown",
   "metadata": {},
   "source": [
    "- Song List "
   ]
  },
  {
   "cell_type": "code",
   "execution_count": 3,
   "metadata": {},
   "outputs": [
    {
     "data": {
      "text/plain": [
       "[(106, '기대해', '기대해'),\n",
       " (107, 'I Dont care', '다른 여자들의 다리를'),\n",
       " (108, 'Bad Girl Good Girl', '앞에선 한 마디 말도'),\n",
       " (109, '피노키오', '뉴예삐오'),\n",
       " (110, '별빛달빛', '너는 내 별빛 내 마음의 별빛'),\n",
       " (111, 'A', 'A 워오우 워오우워 우우우'),\n",
       " (112, '나혼자', '나 혼자 밥을 먹고 나 혼자 영화 보고'),\n",
       " (113, 'LUV', '설레이나요 '),\n",
       " (114, '짧은치마', '짧은 치마를 입고 내가 길을 걸으면'),\n",
       " (115, '위아래', '위 아래 위위 아래')]"
      ]
     },
     "execution_count": 3,
     "metadata": {},
     "output_type": "execute_result"
    }
   ],
   "source": [
    "songs = kdao.get_song_list(10, 5)\n",
    "songs"
   ]
  },
  {
   "cell_type": "code",
   "execution_count": 3,
   "metadata": {},
   "outputs": [
    {
     "data": {
      "text/html": [
       "<div>\n",
       "<style scoped>\n",
       "    .dataframe tbody tr th:only-of-type {\n",
       "        vertical-align: middle;\n",
       "    }\n",
       "\n",
       "    .dataframe tbody tr th {\n",
       "        vertical-align: top;\n",
       "    }\n",
       "\n",
       "    .dataframe thead th {\n",
       "        text-align: right;\n",
       "    }\n",
       "</style>\n",
       "<table border=\"1\" class=\"dataframe\">\n",
       "  <thead>\n",
       "    <tr style=\"text-align: right;\">\n",
       "      <th></th>\n",
       "      <th>제목</th>\n",
       "      <th>가사</th>\n",
       "    </tr>\n",
       "    <tr>\n",
       "      <th>id</th>\n",
       "      <th></th>\n",
       "      <th></th>\n",
       "    </tr>\n",
       "  </thead>\n",
       "  <tbody>\n",
       "    <tr>\n",
       "      <th>106</th>\n",
       "      <td>기대해</td>\n",
       "      <td>기대해</td>\n",
       "    </tr>\n",
       "    <tr>\n",
       "      <th>107</th>\n",
       "      <td>I Dont care</td>\n",
       "      <td>다른 여자들의 다리를</td>\n",
       "    </tr>\n",
       "    <tr>\n",
       "      <th>108</th>\n",
       "      <td>Bad Girl Good Girl</td>\n",
       "      <td>앞에선 한 마디 말도</td>\n",
       "    </tr>\n",
       "    <tr>\n",
       "      <th>109</th>\n",
       "      <td>피노키오</td>\n",
       "      <td>뉴예삐오</td>\n",
       "    </tr>\n",
       "    <tr>\n",
       "      <th>110</th>\n",
       "      <td>별빛달빛</td>\n",
       "      <td>너는 내 별빛 내 마음의 별빛</td>\n",
       "    </tr>\n",
       "    <tr>\n",
       "      <th>111</th>\n",
       "      <td>A</td>\n",
       "      <td>A 워오우 워오우워 우우우</td>\n",
       "    </tr>\n",
       "    <tr>\n",
       "      <th>112</th>\n",
       "      <td>나혼자</td>\n",
       "      <td>나 혼자 밥을 먹고 나 혼자 영화 보고</td>\n",
       "    </tr>\n",
       "    <tr>\n",
       "      <th>113</th>\n",
       "      <td>LUV</td>\n",
       "      <td>설레이나요</td>\n",
       "    </tr>\n",
       "    <tr>\n",
       "      <th>114</th>\n",
       "      <td>짧은치마</td>\n",
       "      <td>짧은 치마를 입고 내가 길을 걸으면</td>\n",
       "    </tr>\n",
       "    <tr>\n",
       "      <th>115</th>\n",
       "      <td>위아래</td>\n",
       "      <td>위 아래 위위 아래</td>\n",
       "    </tr>\n",
       "  </tbody>\n",
       "</table>\n",
       "</div>"
      ],
      "text/plain": [
       "                     제목                     가사\n",
       "id                                            \n",
       "106                 기대해                    기대해\n",
       "107         I Dont care            다른 여자들의 다리를\n",
       "108  Bad Girl Good Girl            앞에선 한 마디 말도\n",
       "109                피노키오                   뉴예삐오\n",
       "110                별빛달빛       너는 내 별빛 내 마음의 별빛\n",
       "111                   A         A 워오우 워오우워 우우우\n",
       "112                 나혼자  나 혼자 밥을 먹고 나 혼자 영화 보고\n",
       "113                 LUV                 설레이나요 \n",
       "114                짧은치마    짧은 치마를 입고 내가 길을 걸으면\n",
       "115                 위아래             위 아래 위위 아래"
      ]
     },
     "execution_count": 3,
     "metadata": {},
     "output_type": "execute_result"
    }
   ],
   "source": [
    "df = pd.DataFrame(songs, columns=['id', '제목', '가사'])\n",
    "df.set_index('id', inplace=True)\n",
    "df"
   ]
  },
  {
   "cell_type": "markdown",
   "metadata": {},
   "source": [
    "- Girl group"
   ]
  },
  {
   "cell_type": "code",
   "execution_count": 4,
   "metadata": {},
   "outputs": [
    {
     "data": {
      "text/plain": [
       "[(1001, '원더걸스', datetime.date(2007, 2, 10), 101),\n",
       " (1002, '소녀시대', datetime.date(2007, 8, 2), 102),\n",
       " (1003, '카라', datetime.date(2009, 7, 30), 103),\n",
       " (1004, '브라운아이드걸스', datetime.date(2008, 1, 17), 104),\n",
       " (1005, '다비치', datetime.date(2009, 2, 27), 105),\n",
       " (1006, '2NE1', datetime.date(2009, 7, 8), 106),\n",
       " (1007, 'f(x)', datetime.date(2011, 4, 20), 108),\n",
       " (1008, '시크릿', datetime.date(2011, 1, 6), 109),\n",
       " (1009, '레인보우', datetime.date(2010, 8, 12), 110),\n",
       " (1010, '애프터 스쿨', datetime.date(2009, 11, 25), 120),\n",
       " (1011, '포미닛', datetime.date(2009, 8, 28), 121),\n",
       " (1012, '뉴진스', datetime.date(2022, 8, 1), 130)]"
      ]
     },
     "execution_count": 4,
     "metadata": {},
     "output_type": "execute_result"
    }
   ],
   "source": [
    "gg_list = kdao.get_girl_group_list()\n",
    "gg_list"
   ]
  },
  {
   "cell_type": "code",
   "execution_count": 5,
   "metadata": {},
   "outputs": [
    {
     "data": {
      "text/html": [
       "<div>\n",
       "<style scoped>\n",
       "    .dataframe tbody tr th:only-of-type {\n",
       "        vertical-align: middle;\n",
       "    }\n",
       "\n",
       "    .dataframe tbody tr th {\n",
       "        vertical-align: top;\n",
       "    }\n",
       "\n",
       "    .dataframe thead th {\n",
       "        text-align: right;\n",
       "    }\n",
       "</style>\n",
       "<table border=\"1\" class=\"dataframe\">\n",
       "  <thead>\n",
       "    <tr style=\"text-align: right;\">\n",
       "      <th></th>\n",
       "      <th>이름</th>\n",
       "      <th>데뷔일자</th>\n",
       "      <th>hit_song_id</th>\n",
       "    </tr>\n",
       "    <tr>\n",
       "      <th>id</th>\n",
       "      <th></th>\n",
       "      <th></th>\n",
       "      <th></th>\n",
       "    </tr>\n",
       "  </thead>\n",
       "  <tbody>\n",
       "    <tr>\n",
       "      <th>1001</th>\n",
       "      <td>원더걸스</td>\n",
       "      <td>2007-02-10</td>\n",
       "      <td>101</td>\n",
       "    </tr>\n",
       "    <tr>\n",
       "      <th>1002</th>\n",
       "      <td>소녀시대</td>\n",
       "      <td>2007-08-02</td>\n",
       "      <td>102</td>\n",
       "    </tr>\n",
       "    <tr>\n",
       "      <th>1003</th>\n",
       "      <td>카라</td>\n",
       "      <td>2009-07-30</td>\n",
       "      <td>103</td>\n",
       "    </tr>\n",
       "    <tr>\n",
       "      <th>1004</th>\n",
       "      <td>브라운아이드걸스</td>\n",
       "      <td>2008-01-17</td>\n",
       "      <td>104</td>\n",
       "    </tr>\n",
       "    <tr>\n",
       "      <th>1005</th>\n",
       "      <td>다비치</td>\n",
       "      <td>2009-02-27</td>\n",
       "      <td>105</td>\n",
       "    </tr>\n",
       "    <tr>\n",
       "      <th>1006</th>\n",
       "      <td>2NE1</td>\n",
       "      <td>2009-07-08</td>\n",
       "      <td>106</td>\n",
       "    </tr>\n",
       "    <tr>\n",
       "      <th>1007</th>\n",
       "      <td>f(x)</td>\n",
       "      <td>2011-04-20</td>\n",
       "      <td>108</td>\n",
       "    </tr>\n",
       "    <tr>\n",
       "      <th>1008</th>\n",
       "      <td>시크릿</td>\n",
       "      <td>2011-01-06</td>\n",
       "      <td>109</td>\n",
       "    </tr>\n",
       "    <tr>\n",
       "      <th>1009</th>\n",
       "      <td>레인보우</td>\n",
       "      <td>2010-08-12</td>\n",
       "      <td>110</td>\n",
       "    </tr>\n",
       "    <tr>\n",
       "      <th>1010</th>\n",
       "      <td>애프터 스쿨</td>\n",
       "      <td>2009-11-25</td>\n",
       "      <td>120</td>\n",
       "    </tr>\n",
       "    <tr>\n",
       "      <th>1011</th>\n",
       "      <td>포미닛</td>\n",
       "      <td>2009-08-28</td>\n",
       "      <td>121</td>\n",
       "    </tr>\n",
       "    <tr>\n",
       "      <th>1012</th>\n",
       "      <td>뉴진스</td>\n",
       "      <td>2022-08-01</td>\n",
       "      <td>130</td>\n",
       "    </tr>\n",
       "  </tbody>\n",
       "</table>\n",
       "</div>"
      ],
      "text/plain": [
       "            이름        데뷔일자  hit_song_id\n",
       "id                                     \n",
       "1001      원더걸스  2007-02-10          101\n",
       "1002      소녀시대  2007-08-02          102\n",
       "1003        카라  2009-07-30          103\n",
       "1004  브라운아이드걸스  2008-01-17          104\n",
       "1005       다비치  2009-02-27          105\n",
       "1006      2NE1  2009-07-08          106\n",
       "1007      f(x)  2011-04-20          108\n",
       "1008       시크릿  2011-01-06          109\n",
       "1009      레인보우  2010-08-12          110\n",
       "1010    애프터 스쿨  2009-11-25          120\n",
       "1011       포미닛  2009-08-28          121\n",
       "1012       뉴진스  2022-08-01          130"
      ]
     },
     "execution_count": 5,
     "metadata": {},
     "output_type": "execute_result"
    }
   ],
   "source": [
    "df = pd.DataFrame(gg_list, columns=['id', '이름', '데뷔일자', 'hit_song_id'])\n",
    "df.set_index('id', inplace=True)\n",
    "df"
   ]
  },
  {
   "cell_type": "code",
   "execution_count": 6,
   "metadata": {},
   "outputs": [
    {
     "data": {
      "text/html": [
       "<div>\n",
       "<style scoped>\n",
       "    .dataframe tbody tr th:only-of-type {\n",
       "        vertical-align: middle;\n",
       "    }\n",
       "\n",
       "    .dataframe tbody tr th {\n",
       "        vertical-align: top;\n",
       "    }\n",
       "\n",
       "    .dataframe thead th {\n",
       "        text-align: right;\n",
       "    }\n",
       "</style>\n",
       "<table border=\"1\" class=\"dataframe\">\n",
       "  <thead>\n",
       "    <tr style=\"text-align: right;\">\n",
       "      <th></th>\n",
       "      <th>이름</th>\n",
       "      <th>데뷔일자</th>\n",
       "      <th>히트곡</th>\n",
       "    </tr>\n",
       "    <tr>\n",
       "      <th>id</th>\n",
       "      <th></th>\n",
       "      <th></th>\n",
       "      <th></th>\n",
       "    </tr>\n",
       "  </thead>\n",
       "  <tbody>\n",
       "    <tr>\n",
       "      <th>1001</th>\n",
       "      <td>원더걸스</td>\n",
       "      <td>2007-02-10</td>\n",
       "      <td>Tell Me</td>\n",
       "    </tr>\n",
       "    <tr>\n",
       "      <th>1002</th>\n",
       "      <td>소녀시대</td>\n",
       "      <td>2007-08-02</td>\n",
       "      <td>Gee</td>\n",
       "    </tr>\n",
       "    <tr>\n",
       "      <th>1003</th>\n",
       "      <td>카라</td>\n",
       "      <td>2009-07-30</td>\n",
       "      <td>미스터</td>\n",
       "    </tr>\n",
       "    <tr>\n",
       "      <th>1004</th>\n",
       "      <td>브라운아이드걸스</td>\n",
       "      <td>2008-01-17</td>\n",
       "      <td>Abracadabra</td>\n",
       "    </tr>\n",
       "    <tr>\n",
       "      <th>1005</th>\n",
       "      <td>다비치</td>\n",
       "      <td>2009-02-27</td>\n",
       "      <td>8282</td>\n",
       "    </tr>\n",
       "    <tr>\n",
       "      <th>1006</th>\n",
       "      <td>2NE1</td>\n",
       "      <td>2009-07-08</td>\n",
       "      <td>기대해</td>\n",
       "    </tr>\n",
       "    <tr>\n",
       "      <th>1007</th>\n",
       "      <td>f(x)</td>\n",
       "      <td>2011-04-20</td>\n",
       "      <td>Bad Girl Good Girl</td>\n",
       "    </tr>\n",
       "    <tr>\n",
       "      <th>1008</th>\n",
       "      <td>시크릿</td>\n",
       "      <td>2011-01-06</td>\n",
       "      <td>피노키오</td>\n",
       "    </tr>\n",
       "    <tr>\n",
       "      <th>1009</th>\n",
       "      <td>레인보우</td>\n",
       "      <td>2010-08-12</td>\n",
       "      <td>별빛달빛</td>\n",
       "    </tr>\n",
       "    <tr>\n",
       "      <th>1010</th>\n",
       "      <td>애프터 스쿨</td>\n",
       "      <td>2009-11-25</td>\n",
       "      <td>디바</td>\n",
       "    </tr>\n",
       "    <tr>\n",
       "      <th>1011</th>\n",
       "      <td>포미닛</td>\n",
       "      <td>2009-08-28</td>\n",
       "      <td>핫이슈</td>\n",
       "    </tr>\n",
       "  </tbody>\n",
       "</table>\n",
       "</div>"
      ],
      "text/plain": [
       "            이름        데뷔일자                 히트곡\n",
       "id                                            \n",
       "1001      원더걸스  2007-02-10             Tell Me\n",
       "1002      소녀시대  2007-08-02                 Gee\n",
       "1003        카라  2009-07-30                 미스터\n",
       "1004  브라운아이드걸스  2008-01-17         Abracadabra\n",
       "1005       다비치  2009-02-27                8282\n",
       "1006      2NE1  2009-07-08                 기대해\n",
       "1007      f(x)  2011-04-20  Bad Girl Good Girl\n",
       "1008       시크릿  2011-01-06                피노키오\n",
       "1009      레인보우  2010-08-12                별빛달빛\n",
       "1010    애프터 스쿨  2009-11-25                  디바\n",
       "1011       포미닛  2009-08-28                 핫이슈"
      ]
     },
     "execution_count": 6,
     "metadata": {},
     "output_type": "execute_result"
    }
   ],
   "source": [
    "gg_list = kdao.get_girl_group_list_with_song()\n",
    "df = pd.DataFrame(gg_list, columns=['id', '이름', '데뷔일자', '히트곡'])\n",
    "df.set_index('id', inplace=True)\n",
    "df"
   ]
  },
  {
   "cell_type": "markdown",
   "metadata": {},
   "source": [
    "- 데뷔년도에 따른 걸그룹의 힛트송"
   ]
  },
  {
   "cell_type": "code",
   "execution_count": 7,
   "metadata": {},
   "outputs": [
    {
     "data": {
      "text/plain": [
       "[('카라', datetime.date(2009, 7, 30), '미스터'),\n",
       " ('다비치', datetime.date(2009, 2, 27), '8282'),\n",
       " ('2NE1', datetime.date(2009, 7, 8), '기대해'),\n",
       " ('애프터 스쿨', datetime.date(2009, 11, 25), '디바'),\n",
       " ('포미닛', datetime.date(2009, 8, 28), '핫이슈')]"
      ]
     },
     "execution_count": 7,
     "metadata": {},
     "output_type": "execute_result"
    }
   ],
   "source": [
    "gg_list = kdao.get_song_list_by_debut(2009)\n",
    "gg_list"
   ]
  },
  {
   "cell_type": "code",
   "execution_count": 8,
   "metadata": {},
   "outputs": [
    {
     "data": {
      "text/html": [
       "<div>\n",
       "<style scoped>\n",
       "    .dataframe tbody tr th:only-of-type {\n",
       "        vertical-align: middle;\n",
       "    }\n",
       "\n",
       "    .dataframe tbody tr th {\n",
       "        vertical-align: top;\n",
       "    }\n",
       "\n",
       "    .dataframe thead th {\n",
       "        text-align: right;\n",
       "    }\n",
       "</style>\n",
       "<table border=\"1\" class=\"dataframe\">\n",
       "  <thead>\n",
       "    <tr style=\"text-align: right;\">\n",
       "      <th></th>\n",
       "      <th>이름</th>\n",
       "      <th>데뷔일자</th>\n",
       "      <th>히트곡</th>\n",
       "    </tr>\n",
       "  </thead>\n",
       "  <tbody>\n",
       "    <tr>\n",
       "      <th>0</th>\n",
       "      <td>카라</td>\n",
       "      <td>2009-07-30</td>\n",
       "      <td>미스터</td>\n",
       "    </tr>\n",
       "    <tr>\n",
       "      <th>1</th>\n",
       "      <td>다비치</td>\n",
       "      <td>2009-02-27</td>\n",
       "      <td>8282</td>\n",
       "    </tr>\n",
       "    <tr>\n",
       "      <th>2</th>\n",
       "      <td>2NE1</td>\n",
       "      <td>2009-07-08</td>\n",
       "      <td>기대해</td>\n",
       "    </tr>\n",
       "    <tr>\n",
       "      <th>3</th>\n",
       "      <td>애프터 스쿨</td>\n",
       "      <td>2009-11-25</td>\n",
       "      <td>디바</td>\n",
       "    </tr>\n",
       "    <tr>\n",
       "      <th>4</th>\n",
       "      <td>포미닛</td>\n",
       "      <td>2009-08-28</td>\n",
       "      <td>핫이슈</td>\n",
       "    </tr>\n",
       "  </tbody>\n",
       "</table>\n",
       "</div>"
      ],
      "text/plain": [
       "       이름        데뷔일자   히트곡\n",
       "0      카라  2009-07-30   미스터\n",
       "1     다비치  2009-02-27  8282\n",
       "2    2NE1  2009-07-08   기대해\n",
       "3  애프터 스쿨  2009-11-25    디바\n",
       "4     포미닛  2009-08-28   핫이슈"
      ]
     },
     "execution_count": 8,
     "metadata": {},
     "output_type": "execute_result"
    }
   ],
   "source": [
    "df = pd.DataFrame(gg_list, columns=['이름', '데뷔일자', '히트곡'])\n",
    "df"
   ]
  },
  {
   "cell_type": "markdown",
   "metadata": {},
   "source": [
    "- 노래 추가"
   ]
  },
  {
   "cell_type": "code",
   "execution_count": 11,
   "metadata": {},
   "outputs": [
    {
     "data": {
      "text/plain": [
       "[(111, 'A', 'A 워오우 워오우워 우우우'),\n",
       " (112, '나혼자', '나 혼자 밥을 먹고 나 혼자 영화 보고'),\n",
       " (113, 'LUV', '설레이나요 '),\n",
       " (114, '짧은치마', '짧은 치마를 입고 내가 길을 걸으면'),\n",
       " (115, '위아래', '위 아래 위위 아래'),\n",
       " (116, 'Dumb Dumb', '너 땜에 하루종일'),\n",
       " (120, '디바', '오늘 밤 매일 밤 자꾸만 네 생각만'),\n",
       " (121, '핫이슈', '머리부터 발끝까지 핫이슈')]"
      ]
     },
     "execution_count": 11,
     "metadata": {},
     "output_type": "execute_result"
    }
   ],
   "source": [
    "params = (121, '핫이슈', '머리부터 발끝까지 핫이슈')\n",
    "kdao.insert_song(params)\n",
    "songs = kdao.get_song_list(10, 10)\n",
    "songs"
   ]
  },
  {
   "cell_type": "markdown",
   "metadata": {},
   "source": [
    "- 걸그룹 추가"
   ]
  },
  {
   "cell_type": "code",
   "execution_count": 12,
   "metadata": {},
   "outputs": [
    {
     "data": {
      "text/plain": [
       "[(1001, '원더걸스', datetime.date(2007, 2, 10), 101),\n",
       " (1002, '소녀시대', datetime.date(2007, 8, 2), 102),\n",
       " (1003, '카라', datetime.date(2009, 7, 30), 103),\n",
       " (1004, '브라운아이드걸스', datetime.date(2008, 1, 17), 104),\n",
       " (1005, '다비치', datetime.date(2009, 2, 27), 105),\n",
       " (1006, '2NE1', datetime.date(2009, 7, 8), 106),\n",
       " (1007, 'f(x)', datetime.date(2011, 4, 20), 108),\n",
       " (1008, '시크릿', datetime.date(2011, 1, 6), 109),\n",
       " (1009, '레인보우', datetime.date(2010, 8, 12), 110),\n",
       " (1010, '애프터 스쿨', datetime.date(2009, 11, 25), 120),\n",
       " (1011, '포미닛', datetime.date(2009, 8, 28), 121),\n",
       " (1012, '뉴진스', datetime.date(2022, 8, 1), 130)]"
      ]
     },
     "execution_count": 12,
     "metadata": {},
     "output_type": "execute_result"
    }
   ],
   "source": [
    "params = ('뉴진스', '2022-08-01', 130)\n",
    "kdao.insert_girl_group(params)\n",
    "gg_list = kdao.get_girl_group_list()\n",
    "gg_list"
   ]
  },
  {
   "cell_type": "markdown",
   "metadata": {},
   "source": [
    "- 개별 곡, 걸그룹 "
   ]
  },
  {
   "cell_type": "code",
   "execution_count": 9,
   "metadata": {},
   "outputs": [
    {
     "data": {
      "text/plain": [
       "(105, '8282', 'Give me a call Baby baby')"
      ]
     },
     "execution_count": 9,
     "metadata": {},
     "output_type": "execute_result"
    }
   ],
   "source": [
    "song = kdao.get_song(105)\n",
    "song"
   ]
  },
  {
   "cell_type": "code",
   "execution_count": 10,
   "metadata": {},
   "outputs": [
    {
     "data": {
      "text/plain": [
       "(1004, '브라운아이드걸스', datetime.date(2008, 1, 17), 104)"
      ]
     },
     "execution_count": 10,
     "metadata": {},
     "output_type": "execute_result"
    }
   ],
   "source": [
    "gg = kdao.get_girl_group(1004)\n",
    "gg"
   ]
  },
  {
   "cell_type": "code",
   "execution_count": null,
   "metadata": {},
   "outputs": [],
   "source": []
  }
 ],
 "metadata": {
  "kernelspec": {
   "display_name": "base",
   "language": "python",
   "name": "python3"
  },
  "language_info": {
   "codemirror_mode": {
    "name": "ipython",
    "version": 3
   },
   "file_extension": ".py",
   "mimetype": "text/x-python",
   "name": "python",
   "nbconvert_exporter": "python",
   "pygments_lexer": "ipython3",
   "version": "3.12.7"
  }
 },
 "nbformat": 4,
 "nbformat_minor": 2
}
