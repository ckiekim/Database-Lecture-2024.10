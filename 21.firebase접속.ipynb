{
 "cells": [
  {
   "cell_type": "markdown",
   "metadata": {},
   "source": [
    "# Firebase - Python 연동\n",
    "- pip install firebase-admin"
   ]
  },
  {
   "cell_type": "code",
   "execution_count": 1,
   "metadata": {},
   "outputs": [],
   "source": [
    "import firebase_admin\n",
    "from firebase_admin import credentials, db"
   ]
  },
  {
   "cell_type": "code",
   "execution_count": 2,
   "metadata": {},
   "outputs": [
    {
     "data": {
      "text/plain": [
       "<firebase_admin.App at 0x2a182e7f530>"
      ]
     },
     "execution_count": 2,
     "metadata": {},
     "output_type": "execute_result"
    }
   ],
   "source": [
    "# firebase 초기화\n",
    "cred = credentials.Certificate('D:/Workspace/2024_11_MySQL/bootproject-ce9d4-firebase-adminsdk-ufpty-f80f606466.json')\n",
    "firebase_admin.initialize_app(cred, {'databaseURL': 'https://bootproject-ce9d4-default-rtdb.asia-southeast1.firebasedatabase.app/'})"
   ]
  },
  {
   "cell_type": "markdown",
   "metadata": {},
   "source": [
    "- 데이터 조회"
   ]
  },
  {
   "cell_type": "code",
   "execution_count": 4,
   "metadata": {},
   "outputs": [
    {
     "data": {
      "text/plain": [
       "{'user1': {'birthDay': '1991-08-01',\n",
       "  'email': 'james@gmail.com',\n",
       "  'imageUrl': 'https://picsum.photos/200/200',\n",
       "  'uid': 'james',\n",
       "  'uname': '제임스'},\n",
       " 'user2': {'email': 'maria@naver.com',\n",
       "  'hobby': 'movie',\n",
       "  'uid': 'maria',\n",
       "  'uname': '마리아'}}"
      ]
     },
     "execution_count": 4,
     "metadata": {},
     "output_type": "execute_result"
    }
   ],
   "source": [
    "users_ref = db.reference('users')\n",
    "users = users_ref.get()\n",
    "users"
   ]
  },
  {
   "cell_type": "code",
   "execution_count": 9,
   "metadata": {},
   "outputs": [
    {
     "name": "stdout",
     "output_type": "stream",
     "text": [
      "사용자:  user1\n",
      "birthDay : 1991-08-01\n",
      "email : james@gmail.com\n",
      "imageUrl : https://picsum.photos/200/200\n",
      "uid : james\n",
      "uname : 제임스\n",
      "\n",
      "사용자:  user2\n",
      "email : maria@naver.com\n",
      "hobby : movie\n",
      "uid : maria\n",
      "uname : 마리아\n",
      "\n"
     ]
    }
   ],
   "source": [
    "for key, value in users.items():\n",
    "    print('사용자: ', key)\n",
    "    for k, v in value.items():\n",
    "        print(k, ':', v)\n",
    "    print()"
   ]
  },
  {
   "cell_type": "code",
   "execution_count": 10,
   "metadata": {},
   "outputs": [
    {
     "data": {
      "text/plain": [
       "{'4c477d90-6ee1-42b2-9c98-2de8aa3696b5': {'date': '2024-12-24',\n",
       "  'hasDone': False,\n",
       "  'name': 'date'},\n",
       " '9ab80343-1cf5-4fd6-80b2-b737b4f2878e': {'date': '2024-10-15',\n",
       "  'hasDone': True,\n",
       "  'name': 'shopping'}}"
      ]
     },
     "execution_count": 10,
     "metadata": {},
     "output_type": "execute_result"
    }
   ],
   "source": [
    "todos_ref = db.reference('todos')\n",
    "todos = todos_ref.get()\n",
    "todos"
   ]
  },
  {
   "cell_type": "code",
   "execution_count": 11,
   "metadata": {},
   "outputs": [
    {
     "name": "stdout",
     "output_type": "stream",
     "text": [
      "Todo: 4c477d90-6ee1-42b2-9c98-2de8aa3696b5\n",
      "date : 2024-12-24\n",
      "hasDone : False\n",
      "name : date\n",
      "\n",
      "Todo: 9ab80343-1cf5-4fd6-80b2-b737b4f2878e\n",
      "date : 2024-10-15\n",
      "hasDone : True\n",
      "name : shopping\n",
      "\n"
     ]
    }
   ],
   "source": [
    "for key, value in todos.items():\n",
    "    print('Todo:', key)\n",
    "    for k, v in value.items():\n",
    "        print(k, ':', v)\n",
    "    print()"
   ]
  },
  {
   "cell_type": "code",
   "execution_count": 12,
   "metadata": {},
   "outputs": [
    {
     "name": "stdout",
     "output_type": "stream",
     "text": [
      "Todo: 4c477d90-6ee1-42b2-9c98-2de8aa3696b5\n",
      "date : 2024-12-24\n",
      "hasDone : False\n",
      "name : date\n",
      "\n",
      "Todo: 9ab80343-1cf5-4fd6-80b2-b737b4f2878e\n",
      "date : 2024-10-15\n",
      "hasDone : True\n",
      "name : shopping\n",
      "\n"
     ]
    }
   ],
   "source": [
    "for key in todos.keys():\n",
    "    print('Todo:', key)\n",
    "    todo = todos[key]\n",
    "    for k in todo.keys():\n",
    "        print(k, ':', todo[k])\n",
    "    print()"
   ]
  },
  {
   "cell_type": "markdown",
   "metadata": {},
   "source": [
    "- 데이터 추가"
   ]
  },
  {
   "cell_type": "code",
   "execution_count": 30,
   "metadata": {},
   "outputs": [],
   "source": [
    "todos_ref = db.reference('todos')\n",
    "new_todo = {\n",
    "\t'name': '커피 마시기', 'date': '2024-12-25', 'hasDone': False\n",
    "}\n",
    "new_todo_ref = todos_ref.push()\t\t# 빈공간을 준비, key 값(UUID)을 준비\n",
    "new_todo_ref.set(new_todo)"
   ]
  },
  {
   "cell_type": "code",
   "execution_count": null,
   "metadata": {},
   "outputs": [],
   "source": [
    "users_ref = db.reference('users')\n",
    "new_user = {\n",
    "\t'uid': 'brian', 'uname': '브라이언', 'email': 'brian@google.com', 'job': 'programmer'\n",
    "}\n",
    "new_user_ref = users_ref.child('user3')\t\t# 빈 공간을 준비, key 값은 파라메터로 넘겨줌\n",
    "new_user_ref.set(new_user)"
   ]
  },
  {
   "cell_type": "code",
   "execution_count": 19,
   "metadata": {},
   "outputs": [],
   "source": [
    "new_user_ref = users_ref.push()\n",
    "new_user_ref.set({\n",
    "\t'uid': 'admin', 'uname': '관리자', 'email': 'admin@boot.com', 'job': 'administrator'\n",
    "})"
   ]
  },
  {
   "cell_type": "markdown",
   "metadata": {},
   "source": [
    "- 데이터 수정"
   ]
  },
  {
   "cell_type": "code",
   "execution_count": 20,
   "metadata": {},
   "outputs": [
    {
     "data": {
      "text/plain": [
       "{'email': 'brian@google.com',\n",
       " 'job': 'programmer',\n",
       " 'uid': 'brian',\n",
       " 'uname': '브라이언'}"
      ]
     },
     "execution_count": 20,
     "metadata": {},
     "output_type": "execute_result"
    }
   ],
   "source": [
    "# users/user3 의 job항목을 개발자로 변경\n",
    "users = users_ref.get()\n",
    "user3 = users['user3']\n",
    "user3"
   ]
  },
  {
   "cell_type": "code",
   "execution_count": null,
   "metadata": {},
   "outputs": [],
   "source": [
    "user3_ref = users_ref.child('user3')\n",
    "user3_ref.update({\n",
    "\t'job': 'data analyst', 'email': 'brian@boot.com'\t# 기존 항목에서 바뀌는 부분만 처리\n",
    "})"
   ]
  },
  {
   "cell_type": "code",
   "execution_count": 23,
   "metadata": {},
   "outputs": [],
   "source": [
    "# todos의 hasDone 항목을 반전시킴\n",
    "todos = todos_ref.get()\n",
    "for key, value in todos.items():\n",
    "    todo_update_ref = todos_ref.child(key)\n",
    "    todo_update_ref.update({'hasDone': not value['hasDone']})"
   ]
  },
  {
   "cell_type": "code",
   "execution_count": null,
   "metadata": {},
   "outputs": [],
   "source": [
    "for key, value in todos.items():\n",
    "    todo_update_ref = todos_ref.child(key)\n",
    "    todo_update_ref.update({'where': '국내'})\t\t# 기존에 없던 항목이 들어오면 새로 추가시켜 줌"
   ]
  },
  {
   "cell_type": "markdown",
   "metadata": {},
   "source": [
    "- 데이터 삭제"
   ]
  },
  {
   "cell_type": "code",
   "execution_count": 25,
   "metadata": {},
   "outputs": [],
   "source": [
    "user3_ref = users_ref.child('user3')\n",
    "user3_ref.delete()"
   ]
  },
  {
   "cell_type": "code",
   "execution_count": 28,
   "metadata": {},
   "outputs": [],
   "source": [
    "users = users_ref.get()\n",
    "for key, value in users.items():\n",
    "    if len(key) > 10:\n",
    "        continue\n",
    "    user_delete_ref = users_ref.child(key)\n",
    "    user_delete_ref.delete()"
   ]
  },
  {
   "cell_type": "code",
   "execution_count": null,
   "metadata": {},
   "outputs": [],
   "source": [
    "todos = todos_ref.get()\n",
    "for key, value in todos.items():\n",
    "    if len(key) < 24:\n",
    "        continue\n",
    "    todo_delete_ref = todos_ref.child(key)\n",
    "    todo_delete_ref.delete()"
   ]
  },
  {
   "cell_type": "code",
   "execution_count": null,
   "metadata": {},
   "outputs": [],
   "source": []
  }
 ],
 "metadata": {
  "kernelspec": {
   "display_name": "base",
   "language": "python",
   "name": "python3"
  },
  "language_info": {
   "codemirror_mode": {
    "name": "ipython",
    "version": 3
   },
   "file_extension": ".py",
   "mimetype": "text/x-python",
   "name": "python",
   "nbconvert_exporter": "python",
   "pygments_lexer": "ipython3",
   "version": "3.12.7"
  }
 },
 "nbformat": 4,
 "nbformat_minor": 2
}
