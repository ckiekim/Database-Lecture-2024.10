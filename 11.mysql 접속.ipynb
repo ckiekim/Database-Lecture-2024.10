{
 "cells": [
  {
   "cell_type": "markdown",
   "metadata": {},
   "source": [
    "# MySQL 접속용 샘플 프로그램\n",
    "- pip install pymysql"
   ]
  },
  {
   "cell_type": "markdown",
   "metadata": {},
   "source": [
    "### 1. 접속 정보가 들어있는 파일 읽기"
   ]
  },
  {
   "cell_type": "code",
   "execution_count": 2,
   "metadata": {},
   "outputs": [
    {
     "data": {
      "text/plain": [
       "{'host': 'localhost',\n",
       " 'user': 'boot_user',\n",
       " 'password': 'boot_pass',\n",
       " 'database': 'world',\n",
       " 'port': 3306}"
      ]
     },
     "execution_count": 2,
     "metadata": {},
     "output_type": "execute_result"
    }
   ],
   "source": [
    "import json\n",
    "with open('./mysql.json') as f:\n",
    "    config_str = f.read()\n",
    "config = json.loads(config_str)\n",
    "config"
   ]
  },
  {
   "cell_type": "markdown",
   "metadata": {},
   "source": [
    "### 2. MySQL에 접속"
   ]
  },
  {
   "cell_type": "code",
   "execution_count": null,
   "metadata": {},
   "outputs": [],
   "source": [
    "import pymysql\n",
    "conn = pymysql.connect(\n",
    "\thost = config['host'],\n",
    "\tuser = config['user'],\n",
    "\tpassword = config['password'],\n",
    "\tdatabase = config['database'],\n",
    "\tport = config['port']\n",
    ")\n",
    "# conn = pymysql.connect(**config)"
   ]
  },
  {
   "cell_type": "markdown",
   "metadata": {},
   "source": [
    "### 3. MySQL Access\n",
    "- city 테이블에서 인구가 900만이 넘는 도시 정보"
   ]
  },
  {
   "cell_type": "code",
   "execution_count": null,
   "metadata": {},
   "outputs": [
    {
     "name": "stdout",
     "output_type": "stream",
     "text": [
      "(1024, 'Mumbai (Bombay)', 'IND', 'Maharashtra', 10500000)\n",
      "(2331, 'Seoul', 'KOR', 'Seoul', 9981619)\n",
      "(206, 'SÃ£o Paulo', 'BRA', 'SÃ£o Paulo', 9968485)\n",
      "(1890, 'Shanghai', 'CHN', 'Shanghai', 9696300)\n",
      "(939, 'Jakarta', 'IDN', 'Jakarta Raya', 9604900)\n",
      "(2822, 'Karachi', 'PAK', 'Sindh', 9269265)\n"
     ]
    }
   ],
   "source": [
    "cur = conn.cursor()\n",
    "sql = 'select * from city where population >= 9000000 order by population desc'\n",
    "cur.execute(sql)\n",
    "\n",
    "rows = cur.fetchall()\n",
    "cur.close()\n",
    "\n",
    "for row in rows:\n",
    "    print(row)"
   ]
  },
  {
   "cell_type": "code",
   "execution_count": 7,
   "metadata": {},
   "outputs": [
    {
     "data": {
      "text/html": [
       "<div>\n",
       "<style scoped>\n",
       "    .dataframe tbody tr th:only-of-type {\n",
       "        vertical-align: middle;\n",
       "    }\n",
       "\n",
       "    .dataframe tbody tr th {\n",
       "        vertical-align: top;\n",
       "    }\n",
       "\n",
       "    .dataframe thead th {\n",
       "        text-align: right;\n",
       "    }\n",
       "</style>\n",
       "<table border=\"1\" class=\"dataframe\">\n",
       "  <thead>\n",
       "    <tr style=\"text-align: right;\">\n",
       "      <th></th>\n",
       "      <th>name</th>\n",
       "      <th>country_code</th>\n",
       "      <th>district</th>\n",
       "      <th>population</th>\n",
       "    </tr>\n",
       "    <tr>\n",
       "      <th>id</th>\n",
       "      <th></th>\n",
       "      <th></th>\n",
       "      <th></th>\n",
       "      <th></th>\n",
       "    </tr>\n",
       "  </thead>\n",
       "  <tbody>\n",
       "    <tr>\n",
       "      <th>1024</th>\n",
       "      <td>Mumbai (Bombay)</td>\n",
       "      <td>IND</td>\n",
       "      <td>Maharashtra</td>\n",
       "      <td>10500000</td>\n",
       "    </tr>\n",
       "    <tr>\n",
       "      <th>2331</th>\n",
       "      <td>Seoul</td>\n",
       "      <td>KOR</td>\n",
       "      <td>Seoul</td>\n",
       "      <td>9981619</td>\n",
       "    </tr>\n",
       "    <tr>\n",
       "      <th>206</th>\n",
       "      <td>SÃ£o Paulo</td>\n",
       "      <td>BRA</td>\n",
       "      <td>SÃ£o Paulo</td>\n",
       "      <td>9968485</td>\n",
       "    </tr>\n",
       "    <tr>\n",
       "      <th>1890</th>\n",
       "      <td>Shanghai</td>\n",
       "      <td>CHN</td>\n",
       "      <td>Shanghai</td>\n",
       "      <td>9696300</td>\n",
       "    </tr>\n",
       "    <tr>\n",
       "      <th>939</th>\n",
       "      <td>Jakarta</td>\n",
       "      <td>IDN</td>\n",
       "      <td>Jakarta Raya</td>\n",
       "      <td>9604900</td>\n",
       "    </tr>\n",
       "    <tr>\n",
       "      <th>2822</th>\n",
       "      <td>Karachi</td>\n",
       "      <td>PAK</td>\n",
       "      <td>Sindh</td>\n",
       "      <td>9269265</td>\n",
       "    </tr>\n",
       "  </tbody>\n",
       "</table>\n",
       "</div>"
      ],
      "text/plain": [
       "                 name country_code      district  population\n",
       "id                                                          \n",
       "1024  Mumbai (Bombay)          IND   Maharashtra    10500000\n",
       "2331            Seoul          KOR         Seoul     9981619\n",
       "206        SÃ£o Paulo          BRA    SÃ£o Paulo     9968485\n",
       "1890         Shanghai          CHN      Shanghai     9696300\n",
       "939           Jakarta          IDN  Jakarta Raya     9604900\n",
       "2822          Karachi          PAK         Sindh     9269265"
      ]
     },
     "execution_count": 7,
     "metadata": {},
     "output_type": "execute_result"
    }
   ],
   "source": [
    "import pandas as pd\n",
    "df = pd.DataFrame(rows, columns=['id','name','country_code','district','population'])\n",
    "df.set_index('id', inplace=True)\n",
    "df"
   ]
  },
  {
   "cell_type": "markdown",
   "metadata": {},
   "source": [
    "- 검색: 국가별 인구수 Top 5"
   ]
  },
  {
   "cell_type": "code",
   "execution_count": 10,
   "metadata": {},
   "outputs": [
    {
     "name": "stdout",
     "output_type": "stream",
     "text": [
      "(2331, 'Seoul', 'KOR', 'Seoul', 9981619)\n",
      "(2332, 'Pusan', 'KOR', 'Pusan', 3804522)\n",
      "(2333, 'Inchon', 'KOR', 'Inchon', 2559424)\n",
      "(2334, 'Taegu', 'KOR', 'Taegu', 2548568)\n",
      "(2335, 'Taejon', 'KOR', 'Taejon', 1425835)\n"
     ]
    }
   ],
   "source": [
    "cur = conn.cursor()\n",
    "sql = \"SELECT * FROM city WHERE countrycode=%s ORDER BY population DESC LIMIT 5\"\n",
    "cur.execute(sql, ('KOR',))\t\t# 파라메터는 반드시 튜플로 전달해야 함\n",
    "rows = cur.fetchall()\n",
    "cur.close()\n",
    "\n",
    "for row in rows:\n",
    "    print(row)"
   ]
  },
  {
   "cell_type": "markdown",
   "metadata": {},
   "source": [
    "- 검색: name field로 검색 --> 1건의 결과"
   ]
  },
  {
   "cell_type": "code",
   "execution_count": 11,
   "metadata": {},
   "outputs": [
    {
     "data": {
      "text/plain": [
       "(2331, 'Seoul', 'KOR', 'Seoul', 9981619)"
      ]
     },
     "execution_count": 11,
     "metadata": {},
     "output_type": "execute_result"
    }
   ],
   "source": [
    "cur = conn.cursor()\n",
    "sql = \"SELECT * FROM city WHERE name=%s\"\n",
    "cur.execute(sql, ('Seoul',))\n",
    "row = cur.fetchone()\n",
    "cur.close()\n",
    "row"
   ]
  },
  {
   "cell_type": "markdown",
   "metadata": {},
   "source": [
    "- 데이터 추가(Insert)"
   ]
  },
  {
   "cell_type": "code",
   "execution_count": 12,
   "metadata": {},
   "outputs": [
    {
     "data": {
      "text/plain": [
       "1"
      ]
     },
     "execution_count": 12,
     "metadata": {},
     "output_type": "execute_result"
    }
   ],
   "source": [
    "cur = conn.cursor()\n",
    "sql = \"INSERT INTO koreancity VALUES(DEFAULT, '도시', '광역시도', 300000)\"\n",
    "cur.execute(sql)"
   ]
  },
  {
   "cell_type": "code",
   "execution_count": 13,
   "metadata": {},
   "outputs": [
    {
     "name": "stdout",
     "output_type": "stream",
     "text": [
      "(2408, '도시', '광역시도', 300000)\n"
     ]
    }
   ],
   "source": [
    "cur = conn.cursor()\n",
    "sql = \"select * from koreancity where name='도시'\"\n",
    "cur.execute(sql)\n",
    "row = cur.fetchone()\n",
    "print(row)"
   ]
  },
  {
   "cell_type": "code",
   "execution_count": 14,
   "metadata": {},
   "outputs": [],
   "source": [
    "conn.commit()\t\t# DB에 반영(Disk), lock이 해제가 되어서 다른 사람이 읽고 쓰기 할 수 있음\n",
    "cur.close()"
   ]
  },
  {
   "cell_type": "code",
   "execution_count": 15,
   "metadata": {},
   "outputs": [],
   "source": [
    "params = ('도시2', '광역시도2', 400000)\n",
    "\n",
    "cur = conn.cursor()\n",
    "sql = \"INSERT INTO koreancity VALUES(DEFAULT, %s, %s, %s)\"\n",
    "cur.execute(sql, params)\n",
    "conn.commit()\n",
    "cur.close()"
   ]
  },
  {
   "cell_type": "code",
   "execution_count": 16,
   "metadata": {},
   "outputs": [],
   "source": [
    "params_list = [\n",
    "\t('도시3', '광역시도3', 400003),\n",
    "\t('도시4', '광역시도4', 400004)\n",
    "]\n",
    "\n",
    "cur = conn.cursor()\n",
    "sql = \"INSERT INTO koreancity VALUES(DEFAULT, %s, %s, %s)\"\n",
    "# for params in params_list:\n",
    "# \tcur.execute(sql, params)\n",
    "cur.executemany(sql, params_list)\n",
    "conn.commit()\n",
    "cur.close()"
   ]
  },
  {
   "cell_type": "markdown",
   "metadata": {},
   "source": [
    "- 데이터 수정(Update)"
   ]
  },
  {
   "cell_type": "code",
   "execution_count": 17,
   "metadata": {},
   "outputs": [],
   "source": [
    "sql = \"UPDATE koreancity SET district='강원' WHERE id = 2409\"\n",
    "cur = conn.cursor()\n",
    "cur.execute(sql)\n",
    "conn.commit()\n",
    "cur.close()"
   ]
  },
  {
   "cell_type": "code",
   "execution_count": null,
   "metadata": {},
   "outputs": [],
   "source": [
    "params_list = [('경기', 2410), ('경기', 2411)]\n",
    "sql = \"UPDATE koreancity SET district=%s WHERE id = %s\"\n",
    "cur = conn.cursor()\n",
    "cur.executemany(sql, params_list)\n",
    "conn.commit()\n",
    "cur.close()"
   ]
  },
  {
   "cell_type": "markdown",
   "metadata": {},
   "source": [
    "- 데이터 삭제(Delete)"
   ]
  },
  {
   "cell_type": "code",
   "execution_count": 19,
   "metadata": {},
   "outputs": [],
   "source": [
    "sql = \"delete from koreancity where id >= %s\"\n",
    "cur = conn.cursor()\n",
    "cur.execute(sql, (2408, ))\n",
    "conn.commit()\n",
    "cur.close()"
   ]
  },
  {
   "cell_type": "markdown",
   "metadata": {},
   "source": [
    "### 4. 접속 해제"
   ]
  },
  {
   "cell_type": "code",
   "execution_count": 20,
   "metadata": {},
   "outputs": [],
   "source": [
    "conn.close()"
   ]
  },
  {
   "cell_type": "markdown",
   "metadata": {},
   "source": [
    "### 5. DAO(Data Access Object)를 만들어서 처리하는 것을 권장\n",
    "- CRUD 기본\n",
    "- id로 검색 - 한건의 결과 - tuple로 반환\n",
    "- 모든 데이터 검색 - 여러건의 결과 - tuple의 리스트로 반환\n",
    "- Insert - row 데이터 전체를 tuple로\n",
    "- Update - row 데이터 전체를 tuple로\n",
    "- Delete - id 값을 tuple로"
   ]
  },
  {
   "cell_type": "code",
   "execution_count": null,
   "metadata": {},
   "outputs": [],
   "source": []
  }
 ],
 "metadata": {
  "kernelspec": {
   "display_name": "vsc",
   "language": "python",
   "name": "python3"
  },
  "language_info": {
   "codemirror_mode": {
    "name": "ipython",
    "version": 3
   },
   "file_extension": ".py",
   "mimetype": "text/x-python",
   "name": "python",
   "nbconvert_exporter": "python",
   "pygments_lexer": "ipython3",
   "version": "3.7.7"
  }
 },
 "nbformat": 4,
 "nbformat_minor": 2
}
