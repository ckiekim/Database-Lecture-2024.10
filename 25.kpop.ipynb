{
 "cells": [
  {
   "cell_type": "code",
   "execution_count": 1,
   "metadata": {},
   "outputs": [],
   "source": [
    "import firebase_admin\n",
    "from firebase_admin import credentials, db\n",
    "import uuid"
   ]
  },
  {
   "cell_type": "code",
   "execution_count": 2,
   "metadata": {},
   "outputs": [
    {
     "data": {
      "text/plain": [
       "<firebase_admin.App at 0x1e8ae300b00>"
      ]
     },
     "execution_count": 2,
     "metadata": {},
     "output_type": "execute_result"
    }
   ],
   "source": [
    "cred = credentials.Certificate('D:/Workspace/2024_11_MySQL/bootproject-ce9d4-firebase-adminsdk-ufpty-f80f606466.json')\n",
    "firebase_admin.initialize_app(cred, {'databaseURL': 'https://bootproject-ce9d4-default-rtdb.asia-southeast1.firebasedatabase.app/'})"
   ]
  },
  {
   "cell_type": "code",
   "execution_count": 11,
   "metadata": {},
   "outputs": [
    {
     "data": {
      "text/plain": [
       "{'950a447a-99b1-40a7-80af-ba66ce27d779': {'debut': '2007-08-02',\n",
       "  'hit_songs': [{'lyrics': '전해주고 싶어 슬픈 시간이 다 흩어진 후에야 들리지만',\n",
       "    'title': '다시만난 세계'},\n",
       "   {'lyrics': 'Gee, gee, gee, gee, baby, baby, baby', 'title': 'Gee'},\n",
       "   {'lyrics': '난 그대 소원을 이뤄 주고 싶은 (싶은) 행운의 여신', 'title': '소원을 말해봐'}],\n",
       "  'name': '소녀시대',\n",
       "  'num_hit_songs': 3},\n",
       " 'cea063db-a1d3-4ef7-b9da-da5f1152536a': {'debut': '2022-08-01',\n",
       "  'hit_songs': [{'lyrics': '너 없이는 매일 매일이 yeah 재미없어, 어쩌지?',\n",
       "    'title': 'Hype Boy'},\n",
       "   {'lyrics': '훌쩍 커버렸어 함께한 기억처럼', 'title': 'Ditto'}],\n",
       "  'name': '뉴진스',\n",
       "  'num_hit_songs': 2}}"
      ]
     },
     "execution_count": 11,
     "metadata": {},
     "output_type": "execute_result"
    }
   ],
   "source": [
    "gg_ref = db.reference('girl_group')\n",
    "gg_dict = gg_ref.get()\n",
    "gg_dict"
   ]
  },
  {
   "cell_type": "code",
   "execution_count": null,
   "metadata": {},
   "outputs": [
    {
     "name": "stdout",
     "output_type": "stream",
     "text": [
      "name: 소녀시대 , debut: 2007-08-02 , 힛트곡 갯수: 3\n",
      "\t {'lyrics': '전해주고 싶어 슬픈 시간이 다 흩어진 후에야 들리지만', 'title': '다시만난 세계'}\n",
      "\t {'lyrics': 'Gee, gee, gee, gee, baby, baby, baby', 'title': 'Gee'}\n",
      "\t {'lyrics': '난 그대 소원을 이뤄 주고 싶은 (싶은) 행운의 여신', 'title': '소원을 말해봐'}\n",
      "\n",
      "name: 뉴진스 , debut: 2022-08-01 , 힛트곡 갯수: 2\n",
      "\t {'lyrics': '너 없이는 매일 매일이 yeah 재미없어, 어쩌지?', 'title': 'Hype Boy'}\n",
      "\t {'lyrics': '훌쩍 커버렸어 함께한 기억처럼', 'title': 'Ditto'}\n",
      "\n"
     ]
    }
   ],
   "source": [
    "for key, girl_group in gg_dict.items():\n",
    "    print('name:', girl_group['name'], ', debut:', girl_group['debut'], ', 힛트곡 갯수:', girl_group['num_hit_songs'])\n",
    "    for song in girl_group['hit_songs']:\n",
    "        print('\\t', song)\n",
    "    print()   "
   ]
  },
  {
   "cell_type": "markdown",
   "metadata": {},
   "source": [
    "- 데이터 추가: 데이터 구조를 어떻게 만들 것인가?"
   ]
  },
  {
   "cell_type": "code",
   "execution_count": 13,
   "metadata": {},
   "outputs": [],
   "source": [
    "ive = {'name':'IVE', 'debut':'2021-12-01'}\n",
    "hit_songs = [\n",
    "\t{'title': 'Love Dive', 'lyrics': 'Narcissistic, my God, I love it 서로를 비춘 밤'},\n",
    "\t{'title': 'I AM', 'lyrics': 'Life is 아름다운 갤럭시, Be a writer, 장르로는 판타지'}\n",
    "]"
   ]
  },
  {
   "cell_type": "code",
   "execution_count": 14,
   "metadata": {},
   "outputs": [
    {
     "data": {
      "text/plain": [
       "{'name': 'IVE',\n",
       " 'debut': '2021-12-01',\n",
       " 'num_hit_songs': 2,\n",
       " 'hit_songs': [{'title': 'Love Dive',\n",
       "   'lyrics': 'Narcissistic, my God, I love it 서로를 비춘 밤'},\n",
       "  {'title': 'I AM', 'lyrics': 'Life is 아름다운 갤럭시, Be a writer, 장르로는 판타지'}]}"
      ]
     },
     "execution_count": 14,
     "metadata": {},
     "output_type": "execute_result"
    }
   ],
   "source": [
    "ive['num_hit_songs'] = len(hit_songs)\n",
    "ive['hit_songs'] = hit_songs\n",
    "ive"
   ]
  },
  {
   "cell_type": "code",
   "execution_count": 15,
   "metadata": {},
   "outputs": [
    {
     "data": {
      "text/plain": [
       "'6de09cad-b0bb-45a9-be90-0feab91b7b24'"
      ]
     },
     "execution_count": 15,
     "metadata": {},
     "output_type": "execute_result"
    }
   ],
   "source": [
    "str(uuid.uuid4())"
   ]
  },
  {
   "cell_type": "code",
   "execution_count": 16,
   "metadata": {},
   "outputs": [],
   "source": [
    "gg_ref = db.reference('girl_group')\n",
    "insert_ref = gg_ref.child(str(uuid.uuid4()))\n",
    "insert_ref.set(ive)"
   ]
  },
  {
   "cell_type": "code",
   "execution_count": null,
   "metadata": {},
   "outputs": [],
   "source": []
  }
 ],
 "metadata": {
  "kernelspec": {
   "display_name": "base",
   "language": "python",
   "name": "python3"
  },
  "language_info": {
   "codemirror_mode": {
    "name": "ipython",
    "version": 3
   },
   "file_extension": ".py",
   "mimetype": "text/x-python",
   "name": "python",
   "nbconvert_exporter": "python",
   "pygments_lexer": "ipython3",
   "version": "3.12.7"
  }
 },
 "nbformat": 4,
 "nbformat_minor": 2
}
