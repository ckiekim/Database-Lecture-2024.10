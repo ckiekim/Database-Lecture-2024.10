{
 "cells": [
  {
   "cell_type": "markdown",
   "metadata": {},
   "source": [
    "### firebase_user_dao 를 이용한 DB 액세스"
   ]
  },
  {
   "cell_type": "code",
   "execution_count": 1,
   "metadata": {},
   "outputs": [],
   "source": [
    "import firebase_user_dao as udao\n",
    "import pandas as df"
   ]
  },
  {
   "cell_type": "markdown",
   "metadata": {},
   "source": [
    "- 사용자 추가"
   ]
  },
  {
   "cell_type": "code",
   "execution_count": null,
   "metadata": {},
   "outputs": [],
   "source": [
    "user = {'uid': 'james', 'uname': '제임스', 'email': 'james@gmail.com', 'job': 'Backend engineer'}\n",
    "udao.insert_user(user)"
   ]
  },
  {
   "cell_type": "code",
   "execution_count": 3,
   "metadata": {},
   "outputs": [],
   "source": [
    "user = {'uid': 'maria', 'uname': '마리아', 'email': 'maria@naver.com', 'job': 'Designer'}\n",
    "udao.insert_user(user)"
   ]
  },
  {
   "cell_type": "code",
   "execution_count": 4,
   "metadata": {},
   "outputs": [],
   "source": [
    "user = {'uid': 'brian', 'uname': '브라이언', 'email': 'brian@naver.com', 'job': 'DB Engineer'}\n",
    "udao.insert_user(user)"
   ]
  },
  {
   "cell_type": "markdown",
   "metadata": {},
   "source": [
    "- 사용자 검색"
   ]
  },
  {
   "cell_type": "code",
   "execution_count": 2,
   "metadata": {},
   "outputs": [
    {
     "name": "stdout",
     "output_type": "stream",
     "text": [
      "{'email': 'james@gmail.com', 'job': 'Backend engineer', 'uid': 'james', 'uname': '제임스'}\n"
     ]
    }
   ],
   "source": [
    "user = udao.find_by_uid('james')\n",
    "print(user)"
   ]
  },
  {
   "cell_type": "code",
   "execution_count": 3,
   "metadata": {},
   "outputs": [
    {
     "name": "stdout",
     "output_type": "stream",
     "text": [
      "{'email': 'maria@naver.com', 'job': 'Designer', 'uid': 'maria', 'uname': '마리아'}\n"
     ]
    }
   ],
   "source": [
    "user = udao.find_by_uid('maria')\n",
    "print(user)"
   ]
  },
  {
   "cell_type": "markdown",
   "metadata": {},
   "source": [
    "- 모든 사용자 정보: [{}, {}, {}] 형태로 받을 예정"
   ]
  },
  {
   "cell_type": "code",
   "execution_count": 4,
   "metadata": {},
   "outputs": [
    {
     "name": "stdout",
     "output_type": "stream",
     "text": [
      "{'email': 'admin@boot.com', 'job': 'administrator', 'uid': 'admin', 'uname': '관리자'}\n",
      "{'email': 'james@gmail.com', 'job': 'Backend engineer', 'uid': 'james', 'uname': '제임스'}\n",
      "{'email': 'maria@naver.com', 'job': 'Designer', 'uid': 'maria', 'uname': '마리아'}\n",
      "{'email': 'brian@naver.com', 'job': 'DB Engineer', 'uid': 'brian', 'uname': '브라이언'}\n"
     ]
    }
   ],
   "source": [
    "user_list = udao.get_user_list()\n",
    "for user in user_list:\n",
    "    print(user)"
   ]
  },
  {
   "cell_type": "markdown",
   "metadata": {},
   "source": [
    "- 정렬된 사용자 정보"
   ]
  },
  {
   "cell_type": "code",
   "execution_count": 2,
   "metadata": {},
   "outputs": [
    {
     "name": "stdout",
     "output_type": "stream",
     "text": [
      "{'email': 'admin@boot.com', 'job': 'administrator', 'uid': 'admin', 'uname': '관리자'}\n",
      "{'email': 'brian@naver.com', 'job': 'DB Engineer', 'uid': 'brian', 'uname': '브라이언'}\n",
      "{'email': 'james@gmail.com', 'job': 'Backend engineer', 'uid': 'james', 'uname': '제임스'}\n",
      "{'email': 'maria@naver.com', 'job': 'Designer', 'uid': 'maria', 'uname': '마리아'}\n"
     ]
    }
   ],
   "source": [
    "ordered_user_list = udao.get_user_ordered_list()\n",
    "for user in ordered_user_list:\n",
    "    print(user)"
   ]
  },
  {
   "cell_type": "code",
   "execution_count": 3,
   "metadata": {},
   "outputs": [
    {
     "name": "stdout",
     "output_type": "stream",
     "text": [
      "{'email': 'james@gmail.com', 'job': 'Backend engineer', 'uid': 'james', 'uname': '제임스'}\n",
      "{'email': 'brian@naver.com', 'job': 'DB Engineer', 'uid': 'brian', 'uname': '브라이언'}\n",
      "{'email': 'maria@naver.com', 'job': 'Designer', 'uid': 'maria', 'uname': '마리아'}\n",
      "{'email': 'admin@boot.com', 'job': 'administrator', 'uid': 'admin', 'uname': '관리자'}\n"
     ]
    }
   ],
   "source": [
    "ordered_user_list = udao.get_user_ordered_list(field='uname', ascending=False)\n",
    "for user in ordered_user_list:\n",
    "    print(user)"
   ]
  },
  {
   "cell_type": "markdown",
   "metadata": {},
   "source": [
    "- 조건 검색"
   ]
  },
  {
   "cell_type": "code",
   "execution_count": 2,
   "metadata": {},
   "outputs": [
    {
     "name": "stdout",
     "output_type": "stream",
     "text": [
      "{'email': 'admin@boot.com', 'job': 'administrator', 'uid': 'admin', 'uname': '관리자'}\n",
      "{'email': 'james@gmail.com', 'job': 'Backend engineer', 'uid': 'james', 'uname': '제임스'}\n",
      "{'email': 'maria@naver.com', 'job': 'Designer', 'uid': 'maria', 'uname': '마리아'}\n"
     ]
    }
   ],
   "source": [
    "selected_user_list = udao.get_user_list_by_uname_length(length=3)\n",
    "for user in selected_user_list:\n",
    "    print(user)"
   ]
  },
  {
   "cell_type": "markdown",
   "metadata": {},
   "source": [
    "- 수정"
   ]
  },
  {
   "cell_type": "code",
   "execution_count": 2,
   "metadata": {},
   "outputs": [],
   "source": [
    "user = {'uid': 'test', 'uname': '테스트', 'email': 'test@gmail.com', 'job': 'Tester'}\n",
    "udao.insert_user(user)"
   ]
  },
  {
   "cell_type": "code",
   "execution_count": 3,
   "metadata": {},
   "outputs": [],
   "source": [
    "user = {'uid': 'test', 'uname': '테스트3', 'email': 'test3@gmail.com', 'job': 'Tester3'}\n",
    "udao.update_user(user)"
   ]
  },
  {
   "cell_type": "markdown",
   "metadata": {},
   "source": [
    "- 삭제"
   ]
  },
  {
   "cell_type": "code",
   "execution_count": 4,
   "metadata": {},
   "outputs": [],
   "source": [
    "udao.delete_user('test')"
   ]
  },
  {
   "cell_type": "code",
   "execution_count": null,
   "metadata": {},
   "outputs": [],
   "source": []
  }
 ],
 "metadata": {
  "kernelspec": {
   "display_name": "base",
   "language": "python",
   "name": "python3"
  },
  "language_info": {
   "codemirror_mode": {
    "name": "ipython",
    "version": 3
   },
   "file_extension": ".py",
   "mimetype": "text/x-python",
   "name": "python",
   "nbconvert_exporter": "python",
   "pygments_lexer": "ipython3",
   "version": "3.12.7"
  }
 },
 "nbformat": 4,
 "nbformat_minor": 2
}
